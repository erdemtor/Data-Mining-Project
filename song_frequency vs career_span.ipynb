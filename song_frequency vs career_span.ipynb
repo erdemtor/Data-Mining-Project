{
 "cells": [
  {
   "cell_type": "code",
   "execution_count": 6,
   "metadata": {
    "collapsed": true,
    "deletable": true,
    "editable": true
   },
   "outputs": [],
   "source": [
    "import numpy as np\n",
    "import matplotlib.pyplot as plt\n",
    "import pandas as pd\n",
    "import re"
   ]
  },
  {
   "cell_type": "code",
   "execution_count": 7,
   "metadata": {
    "collapsed": false,
    "deletable": true,
    "editable": true
   },
   "outputs": [
    {
     "data": {
      "text/plain": [
       "madonna                      35\n",
       "elton john                   26\n",
       "mariah carey                 25\n",
       "stevie wonder                22\n",
       "michael jackson              22\n",
       "janet jackson                22\n",
       "taylor swift                 19\n",
       "whitney houston              19\n",
       "rihanna                      19\n",
       "pink                         17\n",
       "kelly clarkson               17\n",
       "the beatles                  17\n",
       "the black eyed peas          16\n",
       "britney spears               16\n",
       "chicago                      15\n",
       "katy perry                   14\n",
       "aretha franklin              14\n",
       "rod stewart                  14\n",
       "usher                        14\n",
       "maroon 5                     13\n",
       "kool  the gang               13\n",
       "boyz ii men                  13\n",
       "phil collins                 13\n",
       "r kelly                      13\n",
       "the rolling stones           13\n",
       "neil diamond                 12\n",
       "olivia newtonjohn            12\n",
       "the temptations              12\n",
       "billy joel                   12\n",
       "eminem                       12\n",
       "                             ..\n",
       "coldplay                      6\n",
       "kc,the sunshine band          6\n",
       "the ojays                     6\n",
       "carrie underwood              6\n",
       "sly  the family stone         6\n",
       "al green                      6\n",
       "christopher cross             6\n",
       "creed                         6\n",
       "van halen                     6\n",
       "toby keith                    6\n",
       "sting                         6\n",
       "the turtles                   6\n",
       "color me badd                 6\n",
       "roxette                       6\n",
       "cyndi lauper                  6\n",
       "culture club                  6\n",
       "jewel                         6\n",
       "tommy james,the shondells     6\n",
       "ed sheeran                    6\n",
       "milli vanilli                 6\n",
       "n sync                        6\n",
       "faith hill                    6\n",
       "abba                          6\n",
       "98 degrees                    6\n",
       "the hollies                   6\n",
       "train                         6\n",
       "steve winwood                 6\n",
       "lady antebellum               6\n",
       "en vogue                      6\n",
       "john denver                   6\n",
       "Name: Artist, dtype: int64"
      ]
     },
     "execution_count": 7,
     "metadata": {},
     "output_type": "execute_result"
    }
   ],
   "source": [
    "data = pd.read_csv(\"/home/arikan/UT/Spring2017/DataMining/Data-Mining-Project/data.csv\", encoding = \"ISO-8859-1\")\n",
    "data[\"Lyrics\"] = data.Lyrics.fillna(\"\")\n",
    "data[\"Artist\"] = data.Artist.apply(lambda artist: \",\".join(re.split(\" and | featuring \", artist)))\n",
    "artists_grouped = data.groupby('Artist').count()\n",
    "popular_artists = data.Artist.value_counts()\n",
    "popular_artists = popular_artists[popular_artists > 5]\n",
    "popular_artists"
   ]
  },
  {
   "cell_type": "code",
   "execution_count": 9,
   "metadata": {
    "collapsed": false,
    "deletable": true,
    "editable": true
   },
   "outputs": [
    {
     "data": {
      "text/plain": [
       "True"
      ]
     },
     "execution_count": 9,
     "metadata": {},
     "output_type": "execute_result"
    }
   ],
   "source": [
    "spans = dict()\n",
    "for artist in popular_artists.to_dict().keys():\n",
    "    span = data[data.Artist.str.contains(artist)].Year.sort_values().unique().tolist()\n",
    "    start = span[0]\n",
    "    end = span[-1]\n",
    "    if (end - start) > 0:\n",
    "        spans[artist] = (end - start)\n",
    "    \n",
    "avg_songs_per_year = dict()\n",
    "for artist in popular_artists.to_dict().keys():\n",
    "    howmanysongs = data[data.Artist.str.contains(artist)].Year.count()\n",
    "    if artist in spans:\n",
    "        avg_songs_per_year[artist] = float(howmanysongs) / float(spans[artist])\n",
    "    \n",
    "result_x = []\n",
    "result_y = []\n",
    "for artist in spans.keys():\n",
    "    result_x.append(spans[artist])\n",
    "    result_y.append(avg_songs_per_year[artist])\n",
    "len(result_x) == len(result_y)"
   ]
  },
  {
   "cell_type": "code",
   "execution_count": 10,
   "metadata": {
    "collapsed": true,
    "deletable": true,
    "editable": true
   },
   "outputs": [],
   "source": [
    "def plot(x, y, title, xlabel, ylabel):\n",
    "    fig = plt.figure(figsize=(10,8))\n",
    "    plt.scatter(x, y, s=30, c='b', marker=\"D\", alpha=0.5)\n",
    "    fig.suptitle(title, fontsize=20)\n",
    "    plt.xlabel(xlabel, fontsize=18)\n",
    "    plt.ylabel(ylabel, fontsize=16)\n",
    "    plt.show()"
   ]
  },
  {
   "cell_type": "code",
   "execution_count": 11,
   "metadata": {
    "collapsed": false,
    "deletable": true,
    "editable": true
   },
   "outputs": [
    {
     "data": {
      "image/png": "[encoded data removed]",
      "text/plain": [
       "<matplotlib.figure.Figure at 0x7f3a57732940>"
      ]
     },
     "metadata": {},
     "output_type": "display_data"
    }
   ],
   "source": [
    "plot(result_x, result_y, 'Song Frequency by Career Span', 'Career Span', 'Avg. # of Songs Per Year')"
   ]
  },
  {
   "cell_type": "code",
   "execution_count": null,
   "metadata": {
    "collapsed": true,
    "deletable": true,
    "editable": true
   },
   "outputs": [],
   "source": []
  }
 ],
 "metadata": {
  "kernelspec": {
   "display_name": "Python 3",
   "language": "python",
   "name": "python3"
  },
  "language_info": {
   "codemirror_mode": {
    "name": "ipython",
    "version": 3
   },
   "file_extension": ".py",
   "mimetype": "text/x-python",
   "name": "python",
   "nbconvert_exporter": "python",
   "pygments_lexer": "ipython3",
   "version": "3.5.2"
  }
 },
 "nbformat": 4,
 "nbformat_minor": 2
}
