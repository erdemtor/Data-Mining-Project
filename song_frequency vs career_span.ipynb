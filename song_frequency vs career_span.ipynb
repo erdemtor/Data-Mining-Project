{
 "cells": [
  {
   "cell_type": "code",
   "execution_count": 3,
   "metadata": {
    "collapsed": true
   },
   "outputs": [],
   "source": [
    "import numpy as np\n",
    "import matplotlib.pyplot as plt\n",
    "import pandas as pd\n",
    "import re"
   ]
  },
  {
   "cell_type": "code",
   "execution_count": 18,
   "metadata": {
    "collapsed": false
   },
   "outputs": [
    {
     "data": {
      "text/plain": [
       "madonna                      35\n",
       "elton john                   26\n",
       "mariah carey                 25\n",
       "michael jackson              22\n",
       "janet jackson                22\n",
       "stevie wonder                22\n",
       "whitney houston              19\n",
       "taylor swift                 19\n",
       "rihanna                      19\n",
       "pink                         17\n",
       "the beatles                  17\n",
       "kelly clarkson               17\n",
       "britney spears               16\n",
       "the black eyed peas          16\n",
       "chicago                      15\n",
       "usher                        14\n",
       "rod stewart                  14\n",
       "aretha franklin              14\n",
       "katy perry                   14\n",
       "phil collins                 13\n",
       "maroon 5                     13\n",
       "the rolling stones           13\n",
       "kool  the gang               13\n",
       "r kelly                      13\n",
       "boyz ii men                  13\n",
       "eminem                       12\n",
       "the temptations              12\n",
       "bee gees                     12\n",
       "olivia newtonjohn            12\n",
       "neil diamond                 12\n",
       "                             ..\n",
       "sting                         6\n",
       "goo goo dolls                 6\n",
       "ginuwine                      6\n",
       "milli vanilli                 6\n",
       "billy ocean                   6\n",
       "train                         6\n",
       "expose                        6\n",
       "ludacris                      6\n",
       "faith hill                    6\n",
       "journey                       6\n",
       "john denver                   6\n",
       "sean paul                     6\n",
       "jayz                          6\n",
       "al green                      6\n",
       "hootie  the blowfish          6\n",
       "christopher cross             6\n",
       "en vogue                      6\n",
       "culture club                  6\n",
       "ace of base                   6\n",
       "steve winwood                 6\n",
       "the turtles                   6\n",
       "the hollies                   6\n",
       "the 5th dimension             6\n",
       "tommy james,the shondells     6\n",
       "cyndi lauper                  6\n",
       "creed                         6\n",
       "imagine dragons               6\n",
       "tina turner                   6\n",
       "johnny rivers                 6\n",
       "new kids on the block         6\n",
       "Name: Artist, dtype: int64"
      ]
     },
     "execution_count": 18,
     "metadata": {},
     "output_type": "execute_result"
    }
   ],
   "source": [
    "data = pd.read_csv(\"/home/arikan/UT/Spring2017/DataMining/Data-Mining-Project/data.csv\", encoding = \"ISO-8859-1\")\n",
    "data[\"Lyrics\"] = data.Lyrics.fillna(\"\")\n",
    "data[\"Artist\"] = data.Artist.apply(lambda artist: \",\".join(re.split(\" and | featuring \", artist)))\n",
    "artists_grouped = data.groupby('Artist').count()\n",
    "popular_artists = data.Artist.value_counts()\n",
    "popular_artists = popular_artists[popular_artists > 5]\n",
    "popular_artists"
   ]
  },
  {
   "cell_type": "code",
   "execution_count": 34,
   "metadata": {
    "collapsed": false
   },
   "outputs": [
    {
     "data": {
      "text/plain": [
       "True"
      ]
     },
     "execution_count": 34,
     "metadata": {},
     "output_type": "execute_result"
    }
   ],
   "source": [
    "spans = dict()\n",
    "for artist in popular_artists.to_dict().keys():\n",
    "    span = data[data.Artist.str.contains(artist)].Year.sort_values().unique().tolist()\n",
    "    start = span[0]\n",
    "    end = span[-1]\n",
    "    if (end - start) > 0:\n",
    "        spans[artist] = (end - start)\n",
    "    \n",
    "avg_songs_per_year = dict()\n",
    "for artist in popular_artists.to_dict().keys():\n",
    "    howmanysongs = data[data.Artist.str.contains(artist)].Year.count()\n",
    "    if artist in df:\n",
    "        avg_songs_per_year[artist] = float(howmanysongs) / float(spans[artist])\n",
    "    \n",
    "result_x = []\n",
    "result_y = []\n",
    "for artist in spans.keys():\n",
    "    result_x.append(spans[artist])\n",
    "    result_y.append(avg_songs_per_year[artist])\n",
    "len(result_x) == len(result_y)"
   ]
  },
  {
   "cell_type": "code",
   "execution_count": 41,
   "metadata": {
    "collapsed": true
   },
   "outputs": [],
   "source": [
    "def plot(x, y, title, xlabel, ylabel):\n",
    "    fig = plt.figure(figsize=(10,8))\n",
    "    plt.scatter(x, y, s=30, c='b', marker=\"D\", alpha=0.5)\n",
    "    fig.suptitle(title, fontsize=20)\n",
    "    plt.xlabel(xlabel, fontsize=18)\n",
    "    plt.ylabel(ylabel, fontsize=16)\n",
    "    plt.show()"
   ]
  },
  {
   "cell_type": "code",
   "execution_count": 42,
   "metadata": {
    "collapsed": false
   },
   "outputs": [
    {
     "data": {
      "image/png": "[encoded data removed]",
      "text/plain": [
       "<matplotlib.figure.Figure at 0x7f8a1e094ac8>"
      ]
     },
     "metadata": {},
     "output_type": "display_data"
    }
   ],
   "source": [
    "plot(result_x, result_y, 'Song Frequency by Career Span', 'Avg. # of Songs Per Year', 'Career Span')"
   ]
  },
  {
   "cell_type": "code",
   "execution_count": null,
   "metadata": {
    "collapsed": true
   },
   "outputs": [],
   "source": []
  }
 ],
 "metadata": {
  "kernelspec": {
   "display_name": "Python 3",
   "language": "python",
   "name": "python3"
  },
  "language_info": {
   "codemirror_mode": {
    "name": "ipython",
    "version": 3
   },
   "file_extension": ".py",
   "mimetype": "text/x-python",
   "name": "python",
   "nbconvert_exporter": "python",
   "pygments_lexer": "ipython3",
   "version": "3.5.2"
  }
 },
 "nbformat": 4,
 "nbformat_minor": 2
}
